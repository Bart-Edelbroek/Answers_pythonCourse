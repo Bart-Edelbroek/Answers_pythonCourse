{
 "cells": [
  {
   "cell_type": "markdown",
   "metadata": {},
   "source": [
    "# Exercises for Day 3\n",
    "#Numpy and inheritance\n",
    "\n",
    "import numpy as np\n",
    "\n",
    "## 1. Numpy exercises\n",
    "\n",
    "#### a. Create a null vector of size 10 but the fifth value which is 1\n",
    "\n",
    "\n",
    "\n",
    "#### b. Create a vector with values ranging from 10 to 49\n",
    "\n",
    "#### c. Reverse a vector (first element becomes last) \n",
    "\n",
    "#### d. Create a 3x3 matrix with values ranging from 0 to 8\n",
    "\n",
    "#### e. Find indices of non-zero elements from [1,2,0,0,4,0]\n",
    "\n",
    "#### f. Create a random vector of size 30 and find the mean value\n",
    "\n",
    "#### g. Create a 2d array with 1 on the border and 0 inside\n",
    "\n",
    "#### h. Create a 8x8 matrix and fill it with a checkerboard pattern\n",
    "\n",
    "#### i. Create a checkerboard 8x8 matrix using the tile function\n",
    "\n",
    "#### j. Given a 1D array, negate all elements which are between 3 and 8, in place\n",
    "```\n",
    "Z = np.arange(11)\n",
    "Z...\n",
    "print(Z)\n",
    "```\n",
    "\n",
    "#### k. Create a random vector of size 10 and sort it\n",
    "```\n",
    "Z = np.random.random(10)\n",
    "Z = ...\n",
    "print(Z)\n",
    "```\n",
    "\n",
    "#### l. Consider two random array A anb B, check if they are equal\n",
    "```\n",
    "A = np.random.randint(0,2,5)\n",
    "B = np.random.randint(0,2,5)\n",
    "equal = ...\n",
    "print(equal)\n",
    "```\n",
    "\n",
    "#### m. How to convert an integer (32 bits) array into a float (32 bits) in place?\n",
    "```\n",
    "Z = np.arange(10, dtype=np.int32)\n",
    "print(Z.dtype)\n",
    "Z = ...\n",
    "print(Z.dtype)\n",
    "```\n",
    "\n",
    "#### n. How to get the diagonal of a dot product?\n",
    "```\n",
    "A = np.arange(9).reshape(3,3)\n",
    "B = A + 1\n",
    "C = np.dot(A,B)\n",
    "D = ...\n",
    "print(D)\n",
    "```\n",
    "\n",
    "## 2. Speed optimization using Numpy\n",
    "Revisit the ```matmult.py``` example from yesterday and improve its performance using Numpy.\n",
    "\n",
    "## 3. Examples on classes and inheritance in Python\n",
    "\n",
    "#### a. Create a \"Person\" class which takes firstname and lastname as arguments to the constructor (```___init___```) and define a method that returns the full name of the person as a combined string.\n",
    "\n",
    "#### b. Create a \"Student\" class which inherits from the \"Person\" class, takes the subject area as an additional argument to the constructor and define a method that prints the full name and the subject area of the student.\n",
    "\n",
    "#### c. You should be able now to use your \"Student\" class like this:\n",
    "```\n",
    "In [1]: from classroom import Student\n",
    "In [2]: me = Student('Benedikt', 'Daurer', 'physics') \n",
    "In [3]: me.printNameSubject() \n",
    "Benedikt Daurer, physics\n",
    "```\n",
    "\n",
    "#### d. Create a \"Teacher\" class which also inherits from \"Person\", takes the name of the course (e.g. Python programming) as an argument and define a method that prints the full name of the teacher and the course he teaches. \n",
    "\n"
   ]
  },
  {
   "cell_type": "code",
   "execution_count": 1,
   "metadata": {},
   "outputs": [],
   "source": [
    "import numpy as np"
   ]
  },
  {
   "cell_type": "code",
   "execution_count": 2,
   "metadata": {},
   "outputs": [
    {
     "name": "stdout",
     "output_type": "stream",
     "text": [
      "[0. 0. 0. 0. 1. 0. 0. 0. 0. 0.]\n"
     ]
    }
   ],
   "source": [
    "#a. Create a null vector of size 10 but the fifth value which is 1\n",
    "a = np.zeros(10)\n",
    "a[4]=1\n",
    "print(a)"
   ]
  },
  {
   "cell_type": "code",
   "execution_count": 3,
   "metadata": {},
   "outputs": [
    {
     "name": "stdout",
     "output_type": "stream",
     "text": [
      "[10 11 12 13 14 15 16 17 18 19 20 21 22 23 24 25 26 27 28 29 30 31 32 33\n",
      " 34 35 36 37 38 39 40 41 42 43 44 45 46 47 48 49]\n"
     ]
    }
   ],
   "source": [
    "#b. Create a vector with values ranging from 10 to 49\n",
    "b = np.arange(10,50)\n",
    "print(b)"
   ]
  },
  {
   "cell_type": "code",
   "execution_count": 4,
   "metadata": {},
   "outputs": [
    {
     "name": "stdout",
     "output_type": "stream",
     "text": [
      "[49 48 47 46 45 44 43 42 41 40 39 38 37 36 35 34 33 32 31 30 29 28 27 26\n",
      " 25 24 23 22 21 20 19 18 17 16 15 14 13 12 11 10]\n"
     ]
    }
   ],
   "source": [
    "#c. Reverse a vector (first element becomes last)\n",
    "c = b[::-1]\n",
    "print(c)"
   ]
  },
  {
   "cell_type": "code",
   "execution_count": 5,
   "metadata": {},
   "outputs": [
    {
     "name": "stdout",
     "output_type": "stream",
     "text": [
      "[[0 1 2]\n",
      " [3 4 5]\n",
      " [6 7 8]]\n"
     ]
    }
   ],
   "source": [
    "#d. Create a 3x3 matrix with values ranging from 0 to 8\n",
    "d = np.arange(9).reshape(3,3)\n",
    "print(d)"
   ]
  },
  {
   "cell_type": "code",
   "execution_count": 6,
   "metadata": {},
   "outputs": [
    {
     "name": "stdout",
     "output_type": "stream",
     "text": [
      "[0 1 4]\n"
     ]
    }
   ],
   "source": [
    "#e. Find indices of non-zero elements from [1,2,0,0,4,0]\n",
    "e = np.array([1,2,0,0,4,0])\n",
    "print(np.where(e != 0)[0])"
   ]
  },
  {
   "cell_type": "code",
   "execution_count": 7,
   "metadata": {},
   "outputs": [
    {
     "name": "stdout",
     "output_type": "stream",
     "text": [
      "0.5348149575942475\n"
     ]
    }
   ],
   "source": [
    "#f. Create a random vector of size 30 and find the mean value\n",
    "f = np.random.random(30)\n",
    "print(np.mean(f))"
   ]
  },
  {
   "cell_type": "code",
   "execution_count": 8,
   "metadata": {},
   "outputs": [
    {
     "name": "stdout",
     "output_type": "stream",
     "text": [
      "[[1. 1. 1. 1. 1.]\n",
      " [1. 0. 0. 0. 1.]\n",
      " [1. 0. 0. 0. 1.]\n",
      " [1. 0. 0. 0. 1.]\n",
      " [1. 1. 1. 1. 1.]]\n"
     ]
    }
   ],
   "source": [
    "#g. Create a 2d array with 1 on the border and 0 inside\n",
    "g = np.zeros(25).reshape(5,5)\n",
    "g[[0,-1],:]=1\n",
    "g[:,[0,-1]]=1\n",
    "print(g)"
   ]
  },
  {
   "cell_type": "code",
   "execution_count": 9,
   "metadata": {},
   "outputs": [
    {
     "name": "stdout",
     "output_type": "stream",
     "text": [
      "[[0. 1. 0. 1. 0. 1. 0. 1.]\n",
      " [1. 0. 1. 0. 1. 0. 1. 0.]\n",
      " [0. 1. 0. 1. 0. 1. 0. 1.]\n",
      " [1. 0. 1. 0. 1. 0. 1. 0.]\n",
      " [0. 1. 0. 1. 0. 1. 0. 1.]\n",
      " [1. 0. 1. 0. 1. 0. 1. 0.]\n",
      " [0. 1. 0. 1. 0. 1. 0. 1.]\n",
      " [1. 0. 1. 0. 1. 0. 1. 0.]]\n"
     ]
    }
   ],
   "source": [
    "#h. Create a 8x8 matrix and fill it with a checkerboard pattern\n",
    "h = np.zeros(64).reshape(8,8)\n",
    "even = slice(0,8,2)\n",
    "odd = slice(1,9,2)\n",
    "h[even,odd]=1\n",
    "h[odd,even]=1\n",
    "print(h)"
   ]
  },
  {
   "cell_type": "code",
   "execution_count": 10,
   "metadata": {},
   "outputs": [
    {
     "name": "stdout",
     "output_type": "stream",
     "text": [
      "[[1. 0. 1. 0. 1. 0. 1. 0.]\n",
      " [0. 1. 0. 1. 0. 1. 0. 1.]\n",
      " [1. 0. 1. 0. 1. 0. 1. 0.]\n",
      " [0. 1. 0. 1. 0. 1. 0. 1.]\n",
      " [1. 0. 1. 0. 1. 0. 1. 0.]\n",
      " [0. 1. 0. 1. 0. 1. 0. 1.]\n",
      " [1. 0. 1. 0. 1. 0. 1. 0.]\n",
      " [0. 1. 0. 1. 0. 1. 0. 1.]]\n"
     ]
    },
    {
     "data": {
      "text/plain": [
       "array([[0, 1, 0, 1, 0, 1, 0, 1],\n",
       "       [1, 0, 1, 0, 1, 0, 1, 0],\n",
       "       [0, 1, 0, 1, 0, 1, 0, 1],\n",
       "       [1, 0, 1, 0, 1, 0, 1, 0],\n",
       "       [0, 1, 0, 1, 0, 1, 0, 1],\n",
       "       [1, 0, 1, 0, 1, 0, 1, 0],\n",
       "       [0, 1, 0, 1, 0, 1, 0, 1],\n",
       "       [1, 0, 1, 0, 1, 0, 1, 0]])"
      ]
     },
     "execution_count": 10,
     "metadata": {},
     "output_type": "execute_result"
    }
   ],
   "source": [
    "#i. Create a checkerboard 8x8 matrix using the tile function\n",
    "dim = 4\n",
    "i = []\n",
    "t = np.array([[1,0],[0,1]])\n",
    "for x in range((dim)):\n",
    "    i = np.append(i,[np.tile(t,int(dim))])\n",
    "i = np.array(i).reshape(8,8)\n",
    "print(i)\n",
    "\n",
    "#or\n",
    "np.tile(np.array([[0,1],[1,0]]),(4,4))"
   ]
  },
  {
   "cell_type": "code",
   "execution_count": 11,
   "metadata": {},
   "outputs": [
    {
     "name": "stdout",
     "output_type": "stream",
     "text": [
      "[ 0  1  2  0  0  0  0  0  8  9 10]\n"
     ]
    }
   ],
   "source": [
    "#j. Given a 1D array, negate all elements which are between 3 and 8, in place\n",
    "j = np.array([0,1,2,3,4,5,6,7,8,9,10])\n",
    "j[range(3,8)] = 0\n",
    "print(j)\n"
   ]
  },
  {
   "cell_type": "code",
   "execution_count": 12,
   "metadata": {},
   "outputs": [
    {
     "name": "stdout",
     "output_type": "stream",
     "text": [
      "[0.22819411 0.2820923  0.35152719 0.48393334 0.52757448 0.74145288\n",
      " 0.80428007 0.92252323 0.97742034 0.99321212]\n"
     ]
    }
   ],
   "source": [
    "#k. Create a random vector of size 10 and sort it\n",
    "k = np.sort(np.random.random(10))\n",
    "print(k)"
   ]
  },
  {
   "cell_type": "code",
   "execution_count": 13,
   "metadata": {},
   "outputs": [
    {
     "name": "stdout",
     "output_type": "stream",
     "text": [
      "[ True  True False  True False]\n"
     ]
    }
   ],
   "source": [
    "#l. Consider two random array A anb B, check if they are equal\n",
    "A = np.random.randint(0,2,5)\n",
    "B = np.random.randint(0,2,5)\n",
    "equal = (A == B)\n",
    "print(equal)"
   ]
  },
  {
   "cell_type": "code",
   "execution_count": 16,
   "metadata": {},
   "outputs": [
    {
     "name": "stdout",
     "output_type": "stream",
     "text": [
      "int32\n",
      "float32\n"
     ]
    }
   ],
   "source": [
    "#m. How to convert an integer (32 bits) array into a float (32 bits) in place?\n",
    "Z = np.arange(10, dtype=np.int32)\n",
    "print(Z.dtype)\n",
    "Z = np.float32(Z)\n",
    "print(Z.dtype)"
   ]
  },
  {
   "cell_type": "code",
   "execution_count": null,
   "metadata": {},
   "outputs": [],
   "source": [
    "#n. How to get the diagonal of a dot product?¶\n",
    "A = np.arange(9).reshape(3,3)\n",
    "B = A + 1\n",
    "C = np.dot(A,B)\n",
    "D = ...\n",
    "print(D)"
   ]
  },
  {
   "cell_type": "code",
   "execution_count": null,
   "metadata": {},
   "outputs": [],
   "source": []
  }
 ],
 "metadata": {
  "kernelspec": {
   "display_name": "Python 3",
   "language": "python",
   "name": "python3"
  },
  "language_info": {
   "codemirror_mode": {
    "name": "ipython",
    "version": 3
   },
   "file_extension": ".py",
   "mimetype": "text/x-python",
   "name": "python",
   "nbconvert_exporter": "python",
   "pygments_lexer": "ipython3",
   "version": "3.7.4"
  }
 },
 "nbformat": 4,
 "nbformat_minor": 2
}
